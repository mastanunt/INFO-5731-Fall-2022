{
 "cells": [
  {
   "cell_type": "markdown",
   "metadata": {
    "colab_type": "text",
    "id": "view-in-github"
   },
   "source": [
    "<a href=\"https://colab.research.google.com/github/unt-iialab/INFO5731_Spring2020/blob/master/Assignments/INFO5731_Assignment_One.ipynb\" target=\"_parent\"><img src=\"https://colab.research.google.com/assets/colab-badge.svg\" alt=\"Open In Colab\"/></a>"
   ]
  },
  {
   "cell_type": "markdown",
   "metadata": {
    "colab_type": "text",
    "id": "Ryk8D1Q4Wsrp"
   },
   "source": [
    "# **INFO5731 Assignment One**"
   ]
  },
  {
   "cell_type": "markdown",
   "metadata": {
    "colab_type": "text",
    "id": "90_NR8c5XGWc"
   },
   "source": [
    "# Question 1\n",
    "\n",
    "(20 points). Write a Python program to generate 12 random numbers between 1 and 100. Sort the list of numbers in ascending order and print it out. Sort the list of numbers in descending order and print it out. Calculate the average for the group and print it out."
   ]
  },
  {
   "cell_type": "code",
   "execution_count": 23,
   "metadata": {
    "colab": {},
    "colab_type": "code",
    "id": "5QX6bJjGWXY9"
   },
   "outputs": [
    {
     "name": "stdout",
     "output_type": "stream",
     "text": [
      "List of numbers in ascending order: [6, 7, 18, 24, 28, 33, 34, 45, 72, 76, 82, 95]\n",
      "List of numbers in descending order: [95, 82, 76, 72, 45, 34, 33, 28, 24, 18, 7, 6]\n"
     ]
    }
   ],
   "source": [
    "# Your code here\n",
    "# import dependencies\n",
    "import random\n",
    "\n",
    "#generating 12 random numbers between 1 and 100\n",
    "randon_numbers = random.sample(range(1, 100), 12)\n",
    "\n",
    "# sort the list in ascending order and print\n",
    "asc_list = sorted(randon_numbers)\n",
    "print('List of numbers in ascending order:', asc_list)\n",
    "\n",
    "# sort the list in descending order and print\n",
    "desc_list = sorted(randon_numbers, reverse=True)\n",
    "print('List of numbers in descending order:', desc_list)\n"
   ]
  },
  {
   "cell_type": "markdown",
   "metadata": {
    "colab_type": "text",
    "id": "1F_PZdH9Sh49"
   },
   "source": [
    "# Question 2\n",
    "(25 points). Write a program that will do the following string formatting tasks:\n",
    "\n",
    "(1) Ask the user to enter two sentences.\n",
    "\n",
    "(2) Make each sentence into a list. Each element in the list should correspond to a word in the sentence. For example, if the sentence is \"Alas! Am I alive? This is my first python program\", the program should print out ['Alas, '!', 'Am', 'I', 'alive, '?', 'This', 'is', 'my', 'first', 'python', 'program'].\n",
    "\n",
    "(3) Compare the two sentences. Print out a list of words that occur in both sentences.\n",
    "\n",
    "(4) Remove any punctuation from the sentence and print it back out. It should remove at least the following characters, but it can remove more: period(“.”), comma (“,”), semicolon (“;”), and colon (“:”)\n",
    "\n",
    "(5) Count the number of vowels in the sentences. Print out each vowel and the number of times it appears in the sentences, such as: a:2, e:1, i:0, etc"
   ]
  },
  {
   "cell_type": "code",
   "execution_count": 1,
   "metadata": {
    "colab": {},
    "colab_type": "code",
    "id": "Y0oOSlsOS0cq"
   },
   "outputs": [
    {
     "name": "stdout",
     "output_type": "stream",
     "text": [
      "Enter sentence one : Hi, there is a Book\n",
      "Enter sentence two : Hello, can I get a paper from the book?\n",
      "Converted sentence one to list: ['hi', ',', 'there', 'is', 'a', 'book']\n",
      "Converted sentence two to list: ['hello', ',', 'can', 'i', 'get', 'a', 'paper', 'from', 'the', 'book', '?']\n",
      "Words that occur in both sentences: {',', 'a', 'book'}\n",
      "Removed punctuations from list: hi there is a book\n",
      "Removed punctuations from list: hello can i get a paper from the book\n",
      "Count of vowels in the sentence one: {'a': 1, 'e': 2, 'i': 2, 'u': 0, 'o': 2}\n",
      "Count of vowels in the sentence two: {'a': 3, 'e': 4, 'i': 1, 'u': 0, 'o': 4}\n"
     ]
    }
   ],
   "source": [
    "# Your code here\n",
    "# Q1 \n",
    "sentence_one = input('Enter sentence one : ')\n",
    "sentence_two = input('Enter sentence two : ')\n",
    "\n",
    "sentence_one = sentence_one.lower()\n",
    "sentence_two = sentence_two.lower()\n",
    "\n",
    "# Q2\n",
    "import re\n",
    "\n",
    "sentence_one_list = re.findall(r\"[\\w']+|[.,!?]\", sentence_one)\n",
    "sentence_two_list = re.findall(r\"[\\w']+|[.,!?]\", sentence_two)\n",
    "print('Converted sentence one to list:', sentence_one_list)\n",
    "print('Converted sentence two to list:', sentence_two_list)\n",
    "\n",
    "# Q3\n",
    "set_matching_words = set(sentence_one_list) & set(sentence_two_list)\n",
    "print('Words that occur in both sentences:', set_matching_words)\n",
    "\n",
    "# Q4\n",
    "remove_punc_s1_list = re.sub(r'[^\\w\\s]', '', sentence_one)\n",
    "remove_punc_s2_list = re.sub(r'[^\\w\\s]', '', sentence_two)\n",
    "print('Removed punctuations from list:', remove_punc_s1_list)\n",
    "print('Removed punctuations from list:', remove_punc_s2_list)\n",
    "\n",
    "# Q5\n",
    "vowels_list = 'aeiou'\n",
    "\n",
    "def no_of_vowels(data):\n",
    "    result = {'a':0, 'e':0, 'i':0, 'u':0, 'o': 0}\n",
    "    for i in vowels_list:\n",
    "        result[i] = data.count(i)\n",
    "        \n",
    "    return result\n",
    "\n",
    "print(\"Count of vowels in the sentence one:\", no_of_vowels(sentence_one))\n",
    "print(\"Count of vowels in the sentence two:\", no_of_vowels(sentence_two))"
   ]
  },
  {
   "cell_type": "markdown",
   "metadata": {
    "colab_type": "text",
    "id": "CmFoI4jDS9nx"
   },
   "source": [
    "# Question 3 \n",
    "\n",
    "(15 points). The formula that describes the volume V of a sphere with radius r is the following:\n",
    "\n",
    "$ V=\\frac{4}{3}\\ast\\ \\pi\\ast\\ r^3 $\n",
    "\n",
    "Write a program to calculate the value of V when r is in the range of 1–10. Output the result in the following format:\n",
    "\n",
    "\tr\tV\n",
    "\t1\t…\n",
    "\t2\t…\n",
    "\t3\t…\n"
   ]
  },
  {
   "cell_type": "code",
   "execution_count": 2,
   "metadata": {
    "colab": {},
    "colab_type": "code",
    "id": "pEyqeioAT95b"
   },
   "outputs": [
    {
     "name": "stdout",
     "output_type": "stream",
     "text": [
      "r v\n",
      "1 4.188666666666666\n",
      "2 33.50933333333333\n",
      "3 113.094\n",
      "4 268.07466666666664\n",
      "5 523.5833333333333\n",
      "6 904.752\n",
      "7 1436.7126666666666\n",
      "8 2144.597333333333\n",
      "9 3053.5379999999996\n",
      "10 4188.666666666666\n"
     ]
    }
   ],
   "source": [
    "# Your code here\n",
    "\n",
    "pi = 3.1415\n",
    "\n",
    "print('r', 'v')\n",
    "for i in range(1, 11):\n",
    "    volume = (4/3)*pi*(i**3)\n",
    "    print(i, volume)"
   ]
  },
  {
   "cell_type": "markdown",
   "metadata": {
    "colab_type": "text",
    "id": "z3tBE7E-Xn5X"
   },
   "source": [
    "# Question 4\n",
    "\n",
    "(40 points). In the field of Data Science, data is often formatted as a comma-delimited (CSV) file, where each line in a file corresponds to a field's value. Refer to Chapter 9 (p. 106) for more information on comma-delimited files. To answer this question, you will need to download the file [Assignment1_denton_housing.csv](https://raw.githubusercontent.com/unt-iialab/info5731-spring2022/main/assignments/Assignment1_denton_housing.csv) included with this assignment. The file [Assignment1_denton_housing.csv](https://raw.githubusercontent.com/unt-iialab/info5731-spring2022/main/assignments/Assignment1_denton_housing.csv) contains statistics about housing in the city of Denton from 2008 to 2014. Write a program to implement the following questions.\n",
    "\n",
    "(1) (10 pts) Calculate the difference in the number of Occupied Housing Units from year to year and print it. The difference must be calculated for the consecutive years such as 2008-2009, 2009-2010 etc. Finally, print the values in the ascending order.\n",
    "\n",
    "(2) (10 pts) For all the years, calculate the percentage of housing units which are vacant an occupied. Print the results in the following format:\n",
    "\n",
    "Year Vacant Housing Units Occupied Housing Units\n",
    "\n",
    "    2008  30%   70%                          \n",
    "\t2009 ----- -----\n",
    "\t2010 ----- -----\n",
    "    2011 ----- -----\n",
    "\t2012 ----- -----\n",
    "    2013 ----- -----\n",
    "\t2014 ----- -----\n",
    "  \n",
    "  \n",
    "\n",
    "(3) (10 pts) Calculate and print the valued and years in which the highest number of housing units were vacant and occupied. Print the results in the following format:  \n",
    "\n",
    "                              Year\tValue\n",
    "\tVacant Housing Units\t  -----   -----\n",
    "\tOccupied Housing Units\t-----   -----\n",
    "\n",
    "(4) (10 pts) Calculate the harmonic mean of the total housing units and print it out. You can find the information about harmonic mean here: https://ncalculators.com/statistics/harmonic-mean-calculator.htm"
   ]
  },
  {
   "cell_type": "code",
   "execution_count": 22,
   "metadata": {
    "colab": {},
    "colab_type": "code",
    "id": "lqGYuHBhcsRH"
   },
   "outputs": [
    {
     "name": "stdout",
     "output_type": "stream",
     "text": [
      "The difference in the number of Occupied Housing Units from year to year in ascending order:  [-5091, -2622, -1565, -1404, 303, 795]\n"
     ]
    }
   ],
   "source": [
    "# Your code here\n",
    "# Importing modules\n",
    "import pandas as pd\n",
    "import numpy as np\n",
    "\n",
    "# read the given csv file data\n",
    "data = pd.read_csv('./Assignment1_denton_housing.csv')\n",
    "\n",
    "# calculate difference in the number of Occupied Housing Units from year to year in ascending order\n",
    "# Q1\n",
    "dt = data[data['title_field'] == 'Occupied Housing Units'].sort_values(by=['year'])\n",
    "diff = [list(dt['value'].values)[loop] - list(dt['value'].values)[loop+1]\\\n",
    "for loop in range(len(dt)-1)]\n",
    "diff = sorted(diff)\n",
    "print('The difference in the number of Occupied Housing Units from year to year in ascending order: ', diff)"
   ]
  },
  {
   "cell_type": "code",
   "execution_count": 11,
   "metadata": {},
   "outputs": [
    {
     "name": "stdout",
     "output_type": "stream",
     "text": [
      "Year Vacant Housing Units Occupied Housing Units\n",
      "2014 5.730110570363885 % 94.26988942963611 %\n",
      "2013 8.801787504176412 % 91.19821249582358 %\n",
      "2012 6.677600230491346 % 93.32239976950866 %\n",
      "2011 9.379522229890688 % 90.6204777701093 %\n",
      "2010 8.142556337081672 % 91.85744366291833 %\n",
      "2009 9.07111572444872 % 90.92888427555128 %\n",
      "2008 10.88265281351653 % 89.11734718648347 %\n"
     ]
    }
   ],
   "source": [
    "# Q2\n",
    "\n",
    "print('Year', 'Vacant Housing Units', 'Occupied Housing Units')\n",
    "\n",
    "years = []\n",
    "for i, r in data.iterrows():\n",
    "    total_val = 0\n",
    "    occu_val = 0\n",
    "    vacant_val = 0\n",
    "    count = 0\n",
    "    for item, row in data.iterrows():\n",
    "        if row['year'] == r['year']:\n",
    "            if count == 3:\n",
    "                if row['year'] not in years:\n",
    "                    years.append(row['year'])\n",
    "                    print(row['year'], (vacant_val/total_val)*100, '%', (occu_val/total_val)*100, '%')\n",
    "                break;\n",
    "            if row['title_field'] == 'Occupied Housing Units':\n",
    "                occu_val = row['value']\n",
    "                count += 1\n",
    "            if row['title_field'] == 'Vacant Housing Units':\n",
    "                vacant_val = row['value']\n",
    "                count += 1\n",
    "            if row['title_field'] == 'Total Housing Units':\n",
    "                total_val = row['value']\n",
    "                count += 1\n",
    "            "
   ]
  },
  {
   "cell_type": "code",
   "execution_count": 14,
   "metadata": {},
   "outputs": [
    {
     "name": "stdout",
     "output_type": "stream",
     "text": [
      "                        year  value\n",
      "Vacant Housing Units    2008   4483\n",
      "Occupied Housing Units  2014  46295\n"
     ]
    }
   ],
   "source": [
    "# Q3\n",
    "\n",
    "max_vacant_value = 0\n",
    "max_occu_value = 0\n",
    "highest_numers = [0, 0]\n",
    "\n",
    "for item, row in data.iterrows():\n",
    "    if row['title_field'] == 'Occupied Housing Units':\n",
    "        if row['value'] > max_occu_value:\n",
    "            max_occu_value = row['value']\n",
    "            highest_numers[1] = row\n",
    "    if row['title_field'] == 'Vacant Housing Units':\n",
    "        if row['value'] > max_vacant_value:\n",
    "            max_vacant_value = row['value']\n",
    "            highest_numers[0] = row\n",
    "            \n",
    "df = pd.DataFrame(data=highest_numers, columns=['year', 'value'], index=['Vacant Housing Units', 'Occupied Housing Units'])\n",
    "print(df)"
   ]
  },
  {
   "cell_type": "code",
   "execution_count": 15,
   "metadata": {},
   "outputs": [
    {
     "name": "stdout",
     "output_type": "stream",
     "text": [
      "The harmonic mean of the total housing units: 44398.28543969185\n"
     ]
    }
   ],
   "source": [
    "# Q4\n",
    "\n",
    "import statistics\n",
    "\n",
    "housing_units = []\n",
    "for item, row in data.iterrows():\n",
    "    if row['title_field'] == 'Total Housing Units':\n",
    "        housing_units.append(row['value'])\n",
    "        \n",
    "mean_value = statistics.harmonic_mean(housing_units)\n",
    "print(\"The harmonic mean of the total housing units:\", mean_value)"
   ]
  },
  {
   "cell_type": "code",
   "execution_count": null,
   "metadata": {},
   "outputs": [],
   "source": []
  }
 ],
 "metadata": {
  "colab": {
   "authorship_tag": "ABX9TyOAjsNCkNulTpzgRQbHdy3f",
   "collapsed_sections": [],
   "include_colab_link": true,
   "name": "INFO5731_Assignment_One.ipynb",
   "provenance": []
  },
  "kernelspec": {
   "display_name": "Python 3 (ipykernel)",
   "language": "python",
   "name": "python3"
  },
  "language_info": {
   "codemirror_mode": {
    "name": "ipython",
    "version": 3
   },
   "file_extension": ".py",
   "mimetype": "text/x-python",
   "name": "python",
   "nbconvert_exporter": "python",
   "pygments_lexer": "ipython3",
   "version": "3.9.12"
  }
 },
 "nbformat": 4,
 "nbformat_minor": 1
}
