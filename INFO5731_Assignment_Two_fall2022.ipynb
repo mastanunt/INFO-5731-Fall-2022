{
 "cells": [
  {
   "cell_type": "markdown",
   "metadata": {
    "colab_type": "text",
    "id": "view-in-github"
   },
   "source": [
    "<a href=\"https://colab.research.google.com/github/unt-iialab/INFO5731_Spring2020/blob/master/Assignments/INFO5731_Assignment_Two.ipynb\" target=\"_parent\"><img src=\"https://colab.research.google.com/assets/colab-badge.svg\" alt=\"Open In Colab\"/></a>"
   ]
  },
  {
   "cell_type": "markdown",
   "metadata": {
    "colab_type": "text",
    "id": "USSdXHuqnwv9"
   },
   "source": [
    "# **INFO5731 Assignment Two**\n",
    "\n",
    "In this assignment, you will try to gather text data from open data source via web scraping or API. After that you need to clean the text data and syntactic analysis of the data."
   ]
  },
  {
   "cell_type": "markdown",
   "metadata": {
    "colab_type": "text",
    "id": "YWxodXh5n4xF"
   },
   "source": [
    "# **Question 1**"
   ]
  },
  {
   "cell_type": "markdown",
   "metadata": {
    "colab_type": "text",
    "id": "TenBkDJ5n95k"
   },
   "source": [
    "(40 points). Write a python program to collect text data from **either of the following sources** and save the data into a **csv file**:\n",
    "\n",
    "(1) Collect all the customer reviews of the product [Apple iPhone 11](https://www.amazon.com/Apple-iPhone-11-64GB-Unlocked/dp/B07ZPKF8RG/ref=sr_1_13?dchild=1&keywords=iphone+12&qid=1631721363&sr=8-13) on amazon.\n",
    "\n",
    "(2) Collect the top 10000 User Reviews of the film [Shang-Chi and the Legend of the Ten Rings](https://www.imdb.com/title/tt9376612/reviews?ref_=tt_sa_3) from IMDB.\n",
    "\n",
    "(3) Collect all the reviews of the top 100 most popular software from [G2](https://www.g2.com/) or [Capterra](https://www.capterra.com/)\n",
    "\n",
    "(4) Collect the abstracts of the top 10000 research papers by using the query [natural language processing](https://citeseerx.ist.psu.edu/search?q=natural+language+processing&submit.x=0&submit.y=0&sort=rlv&t=doc) from CiteSeerX.\n",
    "\n",
    "(5) Collect all the information of the 904 narrators in the [Densho Digital Repository](https://ddr.densho.org/narrators/).\n",
    "\n",
    "(6) Collect the top 10000 tweets by using hashtag [\"#blacklivesmatter\"](https://twitter.com/hashtag/blacklivesmatter) from Twitter. \n"
   ]
  },
  {
   "cell_type": "code",
   "execution_count": 1,
   "metadata": {
    "colab": {},
    "colab_type": "code",
    "id": "PuFPKhC0m1fd"
   },
   "outputs": [
    {
     "name": "stdout",
     "output_type": "stream",
     "text": [
      "Length of the data frame is 1099\n",
      "                                    Title_of_the_Review  \\\n",
      "0                                Sort of disappointed..   \n",
      "1     Questionable script (and Awkwafina is just the...   \n",
      "2     Marks a bland start to the new phase of Marvel...   \n",
      "3     This could've been great if it wasn't for the ...   \n",
      "4     beautiful science fiction, fantasy and action ...   \n",
      "...                                                 ...   \n",
      "1094                             Could have been better   \n",
      "1095                                            Love it   \n",
      "1096                        Marvel does not disappoint.   \n",
      "1097                            Solid Story, Cgi was Eh   \n",
      "1098                                  Surprisingly good   \n",
      "\n",
      "                                    Review_of_the_movie  \n",
      "0     I got to admit I wasn't particularly blown awa...  \n",
      "1     The characters are a bit incoherent and straig...  \n",
      "2     Destin Daniel Cretton's 'Shang-Chi and the Leg...  \n",
      "3     The story was riddled with holes and plot issu...  \n",
      "4     Everything comes in it beautiful science ficti...  \n",
      "...                                                 ...  \n",
      "1094  Quite a lot of representation and it is great ...  \n",
      "1095                                                     \n",
      "1096                                                     \n",
      "1097  I was very impressed with the narrative of thi...  \n",
      "1098                                                     \n",
      "\n",
      "[1099 rows x 2 columns]\n"
     ]
    }
   ],
   "source": [
    "# Write your code here\n",
    "\n",
    "import requests, openpyxl\n",
    "from bs4 import BeautifulSoup as bs\n",
    "import urllib.request as req\n",
    "import pandas as pd\n",
    "import time\n",
    "\n",
    "from selenium.webdriver.common.by import By\n",
    "from selenium.webdriver.support.ui import WebDriverWait as wait\n",
    "from selenium import webdriver\n",
    "from selenium.webdriver.chrome.service import Service\n",
    "from webdriver_manager.chrome import ChromeDriverManager\n",
    "from selenium.webdriver.common.by import By\n",
    "\n",
    "options = webdriver.ChromeOptions()\n",
    "options.add_argument('-headless')\n",
    "options.add_argument('-no-sandbox')\n",
    "options.add_argument('-disable-dev-shm-usa')\n",
    "\n",
    "titles = [] \n",
    "reviews= []\n",
    "link = 'https://www.imdb.com/title/tt9376612/reviews?ref_=tt_sa_3'\n",
    "d = webdriver.Chrome(service=Service(ChromeDriverManager().install()))\n",
    "#d = webdriver.Chrome('chromedriver',options=options) #creating a driver path\n",
    "d.get(link)\n",
    "for num in range(43):         \n",
    "#     d.find_elements(By.CLASS_NAME,\"ipl-load-more__button\").click() \n",
    "    d.find_element(By.CLASS_NAME,\"ipl-load-more__button\").click()\n",
    "    time.sleep(5)\n",
    "    LTitle = d.find_elements(By.CLASS_NAME, \"title\") #Using Find_elements to get titles of the movie\n",
    "    LReviews = d.find_elements(By.CLASS_NAME, \"text\") #Using Find_elements to get reviews of the movie\n",
    "\n",
    "for e, r in zip(LTitle, LReviews):            # appending all reviews and titles into the empty arrays\n",
    "    titles.append((e.text).replace('\\n',''))\n",
    "    reviews.append(r.text)\n",
    "      \n",
    "data = pd.DataFrame(list(zip(titles, reviews)), columns =['Title_of_the_Review', 'Review_of_the_movie'])\n",
    "#save the dataframe on a csv file\n",
    "data.to_csv('userReviews.csv')\n",
    "\n",
    "print(\"Length of the data frame is\",len(data))\n",
    "print(data)\n"
   ]
  },
  {
   "cell_type": "markdown",
   "metadata": {
    "colab_type": "text",
    "id": "AfpMRCrRwN6Z"
   },
   "source": [
    "# **Question 2**"
   ]
  },
  {
   "cell_type": "markdown",
   "metadata": {
    "colab_type": "text",
    "id": "1dCQEbDawWCw"
   },
   "source": [
    "(30 points). Write a python program to **clean the text data** you collected above and save the data in a new column in the csv file. The data cleaning steps include:\n",
    "\n",
    "(1) Remove noise, such as special characters and punctuations.\n",
    "\n",
    "(2) Remove numbers.\n",
    "\n",
    "(3) Remove stopwords by using the [stopwords list](https://gist.github.com/sebleier/554280).\n",
    "\n",
    "(4) Lowercase all texts\n",
    "\n",
    "(5) Stemming. \n",
    "\n",
    "(6) Lemmatization."
   ]
  },
  {
   "cell_type": "code",
   "execution_count": 2,
   "metadata": {
    "colab": {},
    "colab_type": "code",
    "id": "vATjQNTY8buA"
   },
   "outputs": [
    {
     "name": "stderr",
     "output_type": "stream",
     "text": [
      "[nltk_data] Downloading package stopwords to\n",
      "[nltk_data]     /Users/macuser/nltk_data...\n",
      "[nltk_data]   Package stopwords is already up-to-date!\n",
      "[nltk_data] Downloading package wordnet to /Users/macuser/nltk_data...\n",
      "[nltk_data]   Package wordnet is already up-to-date!\n",
      "[nltk_data] Downloading package punkt to /Users/macuser/nltk_data...\n",
      "[nltk_data]   Package punkt is already up-to-date!\n"
     ]
    },
    {
     "name": "stdout",
     "output_type": "stream",
     "text": [
      "                                    Title_of_the_Review  \\\n",
      "0                                Sort of disappointed..   \n",
      "1     Questionable script (and Awkwafina is just the...   \n",
      "2     Marks a bland start to the new phase of Marvel...   \n",
      "3     This could've been great if it wasn't for the ...   \n",
      "4     beautiful science fiction, fantasy and action ...   \n",
      "...                                                 ...   \n",
      "1091                                        Great story   \n",
      "1092                                  A great adventure   \n",
      "1093                                       a nice movie   \n",
      "1094                             Could have been better   \n",
      "1097                            Solid Story, Cgi was Eh   \n",
      "\n",
      "                                    Review_of_the_movie  \n",
      "0     I got to admit I wasn't particularly blown awa...  \n",
      "1     The characters are a bit incoherent and straig...  \n",
      "2     Destin Daniel Cretton's 'Shang-Chi and the Leg...  \n",
      "3     The story was riddled with holes and plot issu...  \n",
      "4     Everything comes in it beautiful science ficti...  \n",
      "...                                                 ...  \n",
      "1091  Really original and shows a new direction the ...  \n",
      "1092  Shang-Chi and the Legend of the Ten Rings: The...  \n",
      "1093  I don't know why people giving bad reviews but...  \n",
      "1094  Quite a lot of representation and it is great ...  \n",
      "1097  I was very impressed with the narrative of thi...  \n",
      "\n",
      "[940 rows x 2 columns]\n"
     ]
    },
    {
     "name": "stderr",
     "output_type": "stream",
     "text": [
      "/var/folders/hc/231thybn1pd8ng7b0dfdzgr40000gn/T/ipykernel_6448/3252552886.py:25: SettingWithCopyWarning: \n",
      "A value is trying to be set on a copy of a slice from a DataFrame.\n",
      "Try using .loc[row_indexer,col_indexer] = value instead\n",
      "\n",
      "See the caveats in the documentation: https://pandas.pydata.org/pandas-docs/stable/user_guide/indexing.html#returning-a-view-versus-a-copy\n",
      "  df.loc[:,[\"clean_txt\"]]=df[\"Review_of_the_movie\"].apply(lambda ele: re.sub(r\"(@[A-Za-z0-9]+)|([^0-9A-Za-z \\t])|(\\w+:\\/\\/\\S+)|^rt|http.+?\", \"\", ele))\n",
      "/var/folders/hc/231thybn1pd8ng7b0dfdzgr40000gn/T/ipykernel_6448/3252552886.py:26: SettingWithCopyWarning: \n",
      "A value is trying to be set on a copy of a slice from a DataFrame.\n",
      "Try using .loc[row_indexer,col_indexer] = value instead\n",
      "\n",
      "See the caveats in the documentation: https://pandas.pydata.org/pandas-docs/stable/user_guide/indexing.html#returning-a-view-versus-a-copy\n",
      "  df.loc[:,[\"clean_txt\"]]=df[\"clean_txt\"].apply(lambda ele: re.sub(r\"\\d+\", \"\", ele))   #Remove numbers\n",
      "/var/folders/hc/231thybn1pd8ng7b0dfdzgr40000gn/T/ipykernel_6448/3252552886.py:27: SettingWithCopyWarning: \n",
      "A value is trying to be set on a copy of a slice from a DataFrame.\n",
      "Try using .loc[row_indexer,col_indexer] = value instead\n",
      "\n",
      "See the caveats in the documentation: https://pandas.pydata.org/pandas-docs/stable/user_guide/indexing.html#returning-a-view-versus-a-copy\n",
      "  df.loc[:,[\"clean_txt\"]]=df[\"clean_txt\"].apply(lambda string: ' '.join([w for w in string.split() if w not in (stpwordlist)])) #Remove stopwords by using the stopwords list\n",
      "/var/folders/hc/231thybn1pd8ng7b0dfdzgr40000gn/T/ipykernel_6448/3252552886.py:28: SettingWithCopyWarning: \n",
      "A value is trying to be set on a copy of a slice from a DataFrame.\n",
      "Try using .loc[row_indexer,col_indexer] = value instead\n",
      "\n",
      "See the caveats in the documentation: https://pandas.pydata.org/pandas-docs/stable/user_guide/indexing.html#returning-a-view-versus-a-copy\n",
      "  df.loc[:,[\"clean_txt\"]]=df[\"clean_txt\"].str.lower()  #Lowercase all texts\n",
      "/var/folders/hc/231thybn1pd8ng7b0dfdzgr40000gn/T/ipykernel_6448/3252552886.py:29: SettingWithCopyWarning: \n",
      "A value is trying to be set on a copy of a slice from a DataFrame.\n",
      "Try using .loc[row_indexer,col_indexer] = value instead\n",
      "\n",
      "See the caveats in the documentation: https://pandas.pydata.org/pandas-docs/stable/user_guide/indexing.html#returning-a-view-versus-a-copy\n",
      "  df.loc[:,[\"tokens\"]] = df[\"clean_txt\"].apply(lambda x: word_tokenize(x))  #word tokenize\n",
      "/var/folders/hc/231thybn1pd8ng7b0dfdzgr40000gn/T/ipykernel_6448/3252552886.py:33: SettingWithCopyWarning: \n",
      "A value is trying to be set on a copy of a slice from a DataFrame.\n",
      "Try using .loc[row_indexer,col_indexer] = value instead\n",
      "\n",
      "See the caveats in the documentation: https://pandas.pydata.org/pandas-docs/stable/user_guide/indexing.html#returning-a-view-versus-a-copy\n",
      "  df.loc[:,['text_stem']] = df[\"tokens\"].apply(lambda x: word_stemmer(x))  #Stemming\n"
     ]
    },
    {
     "name": "stdout",
     "output_type": "stream",
     "text": [
      "                                    Title_of_the_Review  \\\n",
      "0                                Sort of disappointed..   \n",
      "1     Questionable script (and Awkwafina is just the...   \n",
      "2     Marks a bland start to the new phase of Marvel...   \n",
      "3     This could've been great if it wasn't for the ...   \n",
      "4     beautiful science fiction, fantasy and action ...   \n",
      "...                                                 ...   \n",
      "1091                                        Great story   \n",
      "1092                                  A great adventure   \n",
      "1093                                       a nice movie   \n",
      "1094                             Could have been better   \n",
      "1097                            Solid Story, Cgi was Eh   \n",
      "\n",
      "                                    Review_of_the_movie  \\\n",
      "0     I got to admit I wasn't particularly blown awa...   \n",
      "1     The characters are a bit incoherent and straig...   \n",
      "2     Destin Daniel Cretton's 'Shang-Chi and the Leg...   \n",
      "3     The story was riddled with holes and plot issu...   \n",
      "4     Everything comes in it beautiful science ficti...   \n",
      "...                                                 ...   \n",
      "1091  Really original and shows a new direction the ...   \n",
      "1092  Shang-Chi and the Legend of the Ten Rings: The...   \n",
      "1093  I don't know why people giving bad reviews but...   \n",
      "1094  Quite a lot of representation and it is great ...   \n",
      "1097  I was very impressed with the narrative of thi...   \n",
      "\n",
      "                                              clean_txt  \\\n",
      "0     i got admit i wasnt particularly blown away an...   \n",
      "1     the characters bit incoherent straight contrad...   \n",
      "2     destin daniel crettons shangchi legend ten rin...   \n",
      "3     the story riddled holes plot issues since awkw...   \n",
      "4     everything comes beautiful science fiction bea...   \n",
      "...                                                 ...   \n",
      "1091  really original shows new direction filming mc...   \n",
      "1092  shangchi legend ten rings the origin story sha...   \n",
      "1093  i dont know people giving bad reviews movie go...   \n",
      "1094  quite lot representation great trying expand m...   \n",
      "1097  i impressed narrative film not predictable ama...   \n",
      "\n",
      "                                                 tokens  \\\n",
      "0     [i, got, admit, i, wasnt, particularly, blown,...   \n",
      "1     [the, characters, bit, incoherent, straight, c...   \n",
      "2     [destin, daniel, crettons, shangchi, legend, t...   \n",
      "3     [the, story, riddled, holes, plot, issues, sin...   \n",
      "4     [everything, comes, beautiful, science, fictio...   \n",
      "...                                                 ...   \n",
      "1091  [really, original, shows, new, direction, film...   \n",
      "1092  [shangchi, legend, ten, rings, the, origin, st...   \n",
      "1093  [i, dont, know, people, giving, bad, reviews, ...   \n",
      "1094  [quite, lot, representation, great, trying, ex...   \n",
      "1097  [i, impressed, narrative, film, not, predictab...   \n",
      "\n",
      "                                              text_stem  \\\n",
      "0     [i, got, admit, i, wasnt, particular, blown, a...   \n",
      "1     [the, charact, bit, incoher, straight, contrad...   \n",
      "2     [destin, daniel, cretton, shangchi, legend, te...   \n",
      "3     [the, stori, riddl, hole, plot, issu, sinc, aw...   \n",
      "4     [everyth, come, beauti, scienc, fiction, beaut...   \n",
      "...                                                 ...   \n",
      "1091  [realli, origin, show, new, direct, film, mcu,...   \n",
      "1092  [shangchi, legend, ten, ring, the, origin, sto...   \n",
      "1093  [i, dont, know, peopl, give, bad, review, movi...   \n",
      "1094  [quit, lot, represent, great, tri, expand, mar...   \n",
      "1097  [i, impress, narrat, film, not, predict, amaz,...   \n",
      "\n",
      "                                               text_lem  \n",
      "0     [i, got, admit, i, wasnt, particularly, blown,...  \n",
      "1     [the, character, bit, incoherent, straight, co...  \n",
      "2     [destin, daniel, crettons, shangchi, legend, t...  \n",
      "3     [the, story, riddled, hole, plot, issue, since...  \n",
      "4     [everything, come, beautiful, science, fiction...  \n",
      "...                                                 ...  \n",
      "1091  [really, original, show, new, direction, filmi...  \n",
      "1092  [shangchi, legend, ten, ring, the, origin, sto...  \n",
      "1093  [i, dont, know, people, giving, bad, review, m...  \n",
      "1094  [quite, lot, representation, great, trying, ex...  \n",
      "1097  [i, impressed, narrative, film, not, predictab...  \n",
      "\n",
      "[940 rows x 6 columns]\n"
     ]
    },
    {
     "name": "stderr",
     "output_type": "stream",
     "text": [
      "/var/folders/hc/231thybn1pd8ng7b0dfdzgr40000gn/T/ipykernel_6448/3252552886.py:37: SettingWithCopyWarning: \n",
      "A value is trying to be set on a copy of a slice from a DataFrame.\n",
      "Try using .loc[row_indexer,col_indexer] = value instead\n",
      "\n",
      "See the caveats in the documentation: https://pandas.pydata.org/pandas-docs/stable/user_guide/indexing.html#returning-a-view-versus-a-copy\n",
      "  df.loc[:,['text_lem']] = df[\"tokens\"].apply(lambda x: word_lemmatizer(x))  # Lemmatization\n"
     ]
    }
   ],
   "source": [
    "# Write your code here\n",
    "\n",
    "import nltk\n",
    "# nltk.download('data')\n",
    "nltk.download('stopwords')\n",
    "nltk.download('wordnet')\n",
    "nltk.download('punkt')\n",
    "import numpy as np\n",
    "import nltk.corpus\n",
    "from nltk.corpus import stopwords\n",
    "from nltk.stem.snowball import SnowballStemmer\n",
    "from nltk.tokenize import word_tokenize\n",
    "from nltk.stem import WordNetLemmatizer\n",
    "import re\n",
    "\n",
    "df=data\n",
    "df=df[df[\"Review_of_the_movie\"]!= \"\"] #Removing null review\n",
    "print(df)\n",
    "\n",
    "stpwordlist = stopwords.words('english')\n",
    "snow_stemmer = SnowballStemmer(\"english\")\n",
    "lemmatizer = WordNetLemmatizer()\n",
    "def clean(df):\n",
    "    #Remove noise, such as special characters and punctuations.\n",
    "    df.loc[:,[\"clean_txt\"]]=df[\"Review_of_the_movie\"].apply(lambda ele: re.sub(r\"(@[A-Za-z0-9]+)|([^0-9A-Za-z \\t])|(\\w+:\\/\\/\\S+)|^rt|http.+?\", \"\", ele))\n",
    "    df.loc[:,[\"clean_txt\"]]=df[\"clean_txt\"].apply(lambda ele: re.sub(r\"\\d+\", \"\", ele))   #Remove numbers\n",
    "    df.loc[:,[\"clean_txt\"]]=df[\"clean_txt\"].apply(lambda string: ' '.join([w for w in string.split() if w not in (stpwordlist)])) #Remove stopwords by using the stopwords list\n",
    "    df.loc[:,[\"clean_txt\"]]=df[\"clean_txt\"].str.lower()  #Lowercase all texts\n",
    "    df.loc[:,[\"tokens\"]] = df[\"clean_txt\"].apply(lambda x: word_tokenize(x))  #word tokenize\n",
    "    def word_stemmer(text):\n",
    "        stem_text = [snow_stemmer.stem(i) for i in text]\n",
    "        return stem_text\n",
    "    df.loc[:,['text_stem']] = df[\"tokens\"].apply(lambda x: word_stemmer(x))  #Stemming\n",
    "    def word_lemmatizer(text):\n",
    "        lem_text = [lemmatizer.lemmatize(i) for i in text]\n",
    "        return lem_text\n",
    "    df.loc[:,['text_lem']] = df[\"tokens\"].apply(lambda x: word_lemmatizer(x))  # Lemmatization\n",
    "    return df\n",
    "c = clean(df)\n",
    "print(c)\n"
   ]
  },
  {
   "cell_type": "markdown",
   "metadata": {
    "colab_type": "text",
    "id": "E5mmYIfN8eYV"
   },
   "source": [
    "# **Question 3**"
   ]
  },
  {
   "cell_type": "markdown",
   "metadata": {
    "colab_type": "text",
    "id": "hsi2y4z88ngX"
   },
   "source": [
    "(30 points). Write a python program to conduct **syntax and structure analysis** of the clean text you just saved above. The syntax and structure analysis includes: \n",
    "\n",
    "(1) Parts of Speech (POS) Tagging: Tag Parts of Speech of each word in the text, and calculate the total number of N(oun), V(erb), Adj(ective), Adv(erb), respectively.\n",
    "\n",
    "(2) Constituency Parsing and Dependency Parsing: print out the constituency parsing trees and dependency parsing trees of all the sentences. Using one sentence as an example to explain your understanding about the constituency parsing tree and dependency parsing tree.\n",
    "\n",
    "(3) Named Entity Recognition: Extract all the entities such as person names, organizations, locations, product names, and date from the clean texts, calculate the count of each entity."
   ]
  },
  {
   "cell_type": "code",
   "execution_count": 3,
   "metadata": {
    "colab": {},
    "colab_type": "code",
    "id": "QQKnPjPDHJHr"
   },
   "outputs": [
    {
     "name": "stderr",
     "output_type": "stream",
     "text": [
      "[nltk_data] Downloading package averaged_perceptron_tagger to\n",
      "[nltk_data]     /Users/macuser/nltk_data...\n",
      "[nltk_data]   Package averaged_perceptron_tagger is already up-to-\n",
      "[nltk_data]       date!\n",
      "[nltk_data] Error loading benepar_en2: Package 'benepar_en2' not found\n",
      "[nltk_data]     in index\n",
      "/Library/Frameworks/Python.framework/Versions/3.10/lib/python3.10/site-packages/benepar/spacy_plugin.py:7: FutureWarning: BeneparComponent and NonConstituentException have been moved to the benepar module. Use `from benepar import BeneparComponent, NonConstituentException` instead of benepar.spacy_plugin. The benepar.spacy_plugin namespace is deprecated and will be removed in a future version.\n",
      "  warnings.warn(\n",
      "[nltk_data] Downloading package benepar_en3 to\n",
      "[nltk_data]     /Users/macuser/nltk_data...\n",
      "[nltk_data]   Package benepar_en3 is already up-to-date!\n"
     ]
    },
    {
     "name": "stdout",
     "output_type": "stream",
     "text": [
      "0            [i, -, PRON, -, PRP]\n",
      "1           [the, -, PRON, -, DT]\n",
      "2      [destin, -, PROPN, -, NNP]\n",
      "3           [the, -, PRON, -, DT]\n",
      "4    [everything, -, PRON, -, NN]\n",
      "Name: pos, dtype: object\n",
      "940\n"
     ]
    },
    {
     "name": "stderr",
     "output_type": "stream",
     "text": [
      "/var/folders/hc/231thybn1pd8ng7b0dfdzgr40000gn/T/ipykernel_6448/1567378685.py:17: SettingWithCopyWarning: \n",
      "A value is trying to be set on a copy of a slice from a DataFrame.\n",
      "Try using .loc[row_indexer,col_indexer] = value instead\n",
      "\n",
      "See the caveats in the documentation: https://pandas.pydata.org/pandas-docs/stable/user_guide/indexing.html#returning-a-view-versus-a-copy\n",
      "  df['pos']=df['tokens'].apply(lambda x: spcy(x))\n"
     ]
    }
   ],
   "source": [
    "# Write your code here\n",
    "import nltk\n",
    "nltk.download('averaged_perceptron_tagger')\n",
    "import spacy\n",
    "#nlp=spacy.load('en_core_web_sm')\n",
    "import en_core_web_sm\n",
    "nlp = en_core_web_sm.load()\n",
    "import benepar\n",
    "benepar.download('benepar_en2')\n",
    "from benepar.spacy_plugin import BeneparComponent\n",
    "benepar.download('benepar_en3')\n",
    "\n",
    "def spcy(text):\n",
    "    for t in text:\n",
    "        for token in nlp(t):\n",
    "            return [token.text, '-',token.pos_,'-',token.tag_]\n",
    "df['pos']=df['tokens'].apply(lambda x: spcy(x))\n",
    "print(df['pos'].head())\n",
    "print(len(df['pos']))\n"
   ]
  },
  {
   "cell_type": "markdown",
   "metadata": {
    "colab_type": "text",
    "id": "xWOtvT2rHNWy"
   },
   "source": [
    "**Write your explanations of the constituency parsing tree and dependency parsing tree here (Question 3-2):** "
   ]
  }
 ],
 "metadata": {
  "colab": {
   "authorship_tag": "ABX9TyNljc+o/lciN8B4S0X1+1d9",
   "collapsed_sections": [],
   "include_colab_link": true,
   "name": "INFO5731_Assignment_Two.ipynb",
   "provenance": []
  },
  "kernelspec": {
   "display_name": "Python 3 (ipykernel)",
   "language": "python",
   "name": "python3"
  },
  "language_info": {
   "codemirror_mode": {
    "name": "ipython",
    "version": 3
   },
   "file_extension": ".py",
   "mimetype": "text/x-python",
   "name": "python",
   "nbconvert_exporter": "python",
   "pygments_lexer": "ipython3",
   "version": "3.10.2"
  }
 },
 "nbformat": 4,
 "nbformat_minor": 1
}
