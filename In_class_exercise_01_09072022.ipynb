{
 "cells": [
  {
   "cell_type": "markdown",
   "metadata": {
    "colab_type": "text",
    "id": "view-in-github"
   },
   "source": [
    "<a href=\"https://colab.research.google.com/github/unt-iialab/INFO5731_Spring2020/blob/master/In_class_exercise/In_class_exercise_01.ipynb\" target=\"_parent\"><img src=\"https://colab.research.google.com/assets/colab-badge.svg\" alt=\"Open In Colab\"/></a>"
   ]
  },
  {
   "cell_type": "markdown",
   "metadata": {
    "colab_type": "text",
    "id": "DymRJbxDBCnf"
   },
   "source": [
    "# **The first In-class-exercise (09/07/2022, 40 points in total)**"
   ]
  },
  {
   "cell_type": "markdown",
   "metadata": {
    "colab_type": "text",
    "id": "03jb4GZsBkBS"
   },
   "source": [
    "(1) Write a Python program to calculate the length of a string. (4 points)"
   ]
  },
  {
   "cell_type": "code",
   "execution_count": 3,
   "metadata": {
    "colab": {},
    "colab_type": "code",
    "id": "YaGLbSHHB8Ej"
   },
   "outputs": [
    {
     "name": "stdout",
     "output_type": "stream",
     "text": [
      "4\n"
     ]
    }
   ],
   "source": [
    "# write your answer here\n",
    "# Defining a string variable\n",
    "sample_str = 'INFO'\n",
    "\n",
    "# Calculating the length of a string and print\n",
    "print(len(sample_str))\n"
   ]
  },
  {
   "cell_type": "markdown",
   "metadata": {
    "colab_type": "text",
    "id": "jJDe71iLB616"
   },
   "source": [
    "(2) Write a Python program to count the number of characters in a string. (4 points)\n",
    "\n",
    "Sample String : 'google.com‘, \n",
    "\n",
    "Expected Result : {'o': 3, 'g': 2, '.': 1, 'e': 1, 'l': 1, 'm': 1, 'c': 1}"
   ]
  },
  {
   "cell_type": "code",
   "execution_count": 4,
   "metadata": {
    "colab": {},
    "colab_type": "code",
    "id": "MtKskTzbCLaU"
   },
   "outputs": [
    {
     "name": "stdout",
     "output_type": "stream",
     "text": [
      "{'g': 2, 'o': 3, 'l': 1, 'e': 1, '.': 1, 'c': 1, 'm': 1}\n"
     ]
    }
   ],
   "source": [
    "# write your answer here\n",
    "# Defining a variable with a sample text and declare a blank dictionary variable\n",
    "sample_str = 'google.com'\n",
    "result = {}\n",
    "\n",
    "# Through for loop count a letter occurances and push the same into a dictionary\n",
    "for letter in sample_str:\n",
    "    result[letter] = sample_str.count(letter)\n",
    "\n",
    "# Print the result value\n",
    "print(result)"
   ]
  },
  {
   "cell_type": "markdown",
   "metadata": {
    "colab_type": "text",
    "id": "55W9AMdXCSpV"
   },
   "source": [
    "(3) Write a Python program to sum all the items in a list. (4 points)"
   ]
  },
  {
   "cell_type": "code",
   "execution_count": 5,
   "metadata": {
    "colab": {},
    "colab_type": "code",
    "id": "I57NXsauCec2"
   },
   "outputs": [
    {
     "name": "stdout",
     "output_type": "stream",
     "text": [
      "10\n"
     ]
    }
   ],
   "source": [
    "# write your answer here\n",
    "# Defining an array of integers\n",
    "my_list = [1, 2, 3, 4]\n",
    "result = 0\n",
    "\n",
    "# Calculating sum of elements using for loop\n",
    "for item in my_list:\n",
    "    result += item\n",
    "    \n",
    "# Print the result value\n",
    "print(result)\n"
   ]
  },
  {
   "cell_type": "markdown",
   "metadata": {
    "colab_type": "text",
    "id": "4ulBZ6yhCi9F"
   },
   "source": [
    "(4) Write a Python program to get a string from a given string where all occurrences of its first char have been changed to '\\$', except the first char itself. (4 points)\n",
    "\n",
    "Sample String : 'restart‘, \n",
    "\n",
    "Expected Result : 'resta\\$t'"
   ]
  },
  {
   "cell_type": "code",
   "execution_count": 5,
   "metadata": {
    "colab": {},
    "colab_type": "code",
    "id": "Fj0XhwbBCw2o"
   },
   "outputs": [
    {
     "name": "stdout",
     "output_type": "stream",
     "text": [
      "resta$t\n"
     ]
    }
   ],
   "source": [
    "# write your answer here\n",
    "# Define a sample string\n",
    "sample_str = 'restart'\n",
    "\n",
    "# Assigning the first character of the letter to a variable\n",
    "first_letter = sample_str[0]\n",
    "\n",
    "# Replacing the first letter occurances in the given string with '$'\n",
    "sample_str = sample_str.replace(sample_str[0], '$')\n",
    "sample_str = first_letter + sample_str[1:]\n",
    "\n",
    "# Print the result string\n",
    "print(sample_str)"
   ]
  },
  {
   "cell_type": "markdown",
   "metadata": {
    "colab_type": "text",
    "id": "_bIP7s1MCzue"
   },
   "source": [
    "(5) Write a program with python which could accept two parameter a and b to calculate and output the result of S, where \n",
    "\n",
    "$\\ S=3.14*(1+a/b)^3$ (4 points)\n",
    "\n"
   ]
  },
  {
   "cell_type": "code",
   "execution_count": 4,
   "metadata": {
    "colab": {},
    "colab_type": "code",
    "id": "w79QilHXD3Mg"
   },
   "outputs": [
    {
     "name": "stdout",
     "output_type": "stream",
     "text": [
      "10.5975\n",
      "b value should not be zero.\n"
     ]
    }
   ],
   "source": [
    "# write your answer here\n",
    "# Defining a function, passing two variables a, b and return the result\n",
    "def cal(a, b):\n",
    "    if(b != 0):\n",
    "        return (3.14*(1+(a/b))**3)\n",
    "    else:\n",
    "        return 'b value should not be zero.'\n",
    "\n",
    "# Call the cal function by passing sample data and print the result\n",
    "# Valid data passed\n",
    "print(cal(1, 2))\n",
    "# Invalid data passed\n",
    "print(cal(1, 0))"
   ]
  },
  {
   "cell_type": "markdown",
   "metadata": {
    "colab_type": "text",
    "id": "xCa2bK9aD4Q3"
   },
   "source": [
    "(6) Write a Python program to concatenate following dictionaries to create a new one. (4 points)\n",
    "\n",
    "Sample Dictionary : dic1={1:10, 2:20}, dic2={3:30, 4:40}, dic3={5:50,6:60}, \n",
    "\n",
    "Expected Result : {1: 10, 2: 20, 3: 30, 4: 40, 5: 50, 6: 60}\n"
   ]
  },
  {
   "cell_type": "code",
   "execution_count": 25,
   "metadata": {
    "colab": {},
    "colab_type": "code",
    "id": "_z4aLqAbEET1"
   },
   "outputs": [
    {
     "name": "stdout",
     "output_type": "stream",
     "text": [
      "{1: 10, 2: 20, 3: 30, 4: 40, 5: 50, 6: 60}\n"
     ]
    }
   ],
   "source": [
    "# write your answer here\n",
    "# Declare and define three dictionaries\n",
    "dic1={1:10, 2:20}\n",
    "dic2={3:30, 4:40}\n",
    "dic3={5:50, 6:60}\n",
    "\n",
    "# Merge all three dictionaries and print the result\n",
    "merged_dict = {**dic1, **dic2, **dic3}\n",
    "print(merged_dict)"
   ]
  },
  {
   "cell_type": "markdown",
   "metadata": {
    "colab_type": "text",
    "id": "0v48Vqa7FrQh"
   },
   "source": [
    "(7) Write a Python program to check whether an element exists within a tuple. (4 points)"
   ]
  },
  {
   "cell_type": "code",
   "execution_count": 27,
   "metadata": {
    "colab": {},
    "colab_type": "code",
    "id": "7WEmgq-DF2P1"
   },
   "outputs": [
    {
     "name": "stdout",
     "output_type": "stream",
     "text": [
      "True\n",
      "True\n",
      "False\n"
     ]
    }
   ],
   "source": [
    "# write your answer here\n",
    "\n",
    "#Declare and define a sample tuple\n",
    "my_tuple = (1, 'a', 2.0)\n",
    "\n",
    "#Print sample boolean results whether or not the given value exists in the tuple\n",
    "print(1 in my_tuple)\n",
    "print('a' in my_tuple)\n",
    "print('b' in my_tuple)"
   ]
  },
  {
   "cell_type": "markdown",
   "metadata": {
    "colab_type": "text",
    "id": "vD5PYLMuGga_"
   },
   "source": [
    "(8) Write a Python program to find maximum and the minimum value in a set. (4 points)"
   ]
  },
  {
   "cell_type": "code",
   "execution_count": 30,
   "metadata": {
    "colab": {},
    "colab_type": "code",
    "id": "t0D5kdJUGjjw"
   },
   "outputs": [
    {
     "name": "stdout",
     "output_type": "stream",
     "text": [
      "Maximum value in a given set is: 11\n",
      "Minimum value in a given set is: 2\n"
     ]
    }
   ],
   "source": [
    "# write your answer here\n",
    "# Declare and define a Set\n",
    "my_set = {5, 10, 2, 11}\n",
    "\n",
    "#Print maximum, minimum values using max(), min() predefined methods respectively\n",
    "print('Maximum value in a given set is:', max(my_set))\n",
    "print('Minimum value in a given set is:', min(my_set))"
   ]
  },
  {
   "cell_type": "markdown",
   "metadata": {
    "colab_type": "text",
    "id": "uHkd-y5VhVWC"
   },
   "source": [
    "(9) Write a Python program to randomly divide the students in this class into six groups for term projects, each group should have at least 4 students but no more than 6 students (including 6). Here is the students list: (4 points)\n",
    "\n",
    "studnet_list = ['ja0964','sa1198','sb1357','vb0218','sc1229','kg0569','kg0470','sg1297','bg0320','fh0141','jl1252','sk1386',\n",
    "           'ak0956','sk1390','sk1458','sk1313','ak0934','vm0377','nm0618','sm1640','sm1907','gn0108','pr0353','dr0609','ms1500','aos0040','ds0814', 'av0659','nv0234','hy0232']"
   ]
  },
  {
   "cell_type": "code",
   "execution_count": 3,
   "metadata": {
    "colab": {},
    "colab_type": "code",
    "id": "3iGbmcOBhTwy"
   },
   "outputs": [
    {
     "name": "stdout",
     "output_type": "stream",
     "text": [
      "[['ja0964', 'sa1198', 'sb1357', 'vb0218'], ['sc1229', 'kg0569', 'kg0470', 'sg1297'], ['bg0320', 'fh0141', 'jl1252', 'sk1386'], ['ak0956', 'sk1390', 'sk1458', 'sk1313'], ['ak0934', 'vm0377', 'nm0618', 'sm1640'], ['sm1907', 'gn0108', 'pr0353', 'dr0609'], ['ms1500', 'aos0040', 'ds0814', 'av0659', 'nv0234', 'hy0232']]\n"
     ]
    }
   ],
   "source": [
    "# write your answer here\n",
    "# Declare and define a sample array\n",
    "studnet_list = ['ja0964','sa1198','sb1357','vb0218','sc1229','kg0569','kg0470','sg1297','bg0320','fh0141','jl1252','sk1386', 'ak0956','sk1390','sk1458','sk1313','ak0934','vm0377','nm0618','sm1640','sm1907','gn0108','pr0353','dr0609','ms1500','aos0040','ds0814', 'av0659','nv0234','hy0232']\n",
    "result = []\n",
    "\n",
    "# Print result as insufficient array elements passed, If we pass an empty array or an array which has < 4 elements (since the ask here is we should atleast have 4 elements per a group)\n",
    "if(len(studnet_list) < 4):\n",
    "    print('Insufficient array data provided...')\n",
    "else:\n",
    "    while len(studnet_list) != 0:\n",
    "        if(len(studnet_list) == 11):\n",
    "            result.append(studnet_list[0:5])\n",
    "            for j in range(5):\n",
    "                studnet_list.pop(0)\n",
    "        elif(len(studnet_list) <= 6 & len(studnet_list) >= 4):\n",
    "            result.append(studnet_list[0:len(studnet_list)])\n",
    "            studnet_list = []\n",
    "        else:\n",
    "            result.append(studnet_list[0:4])\n",
    "            for j in range(4):\n",
    "                studnet_list.pop(0)\n",
    "        \n",
    "    print(result)\n",
    "    \n",
    "    "
   ]
  },
  {
   "cell_type": "markdown",
   "metadata": {},
   "source": [
    "(10) Write a Python program to find the duplicate elements in a given array of integers. Return -1 If there are no such elements. (4 points)"
   ]
  },
  {
   "cell_type": "code",
   "execution_count": 6,
   "metadata": {},
   "outputs": [
    {
     "name": "stdout",
     "output_type": "stream",
     "text": [
      "without duplicates: -1\n",
      "with duplicates: 1\n"
     ]
    }
   ],
   "source": [
    "# write your answer here\n",
    "# Writing a function to identify whether or not any duplicates exixt in the given array\n",
    "def checkDuplicates(arr):\n",
    "    my_set = set()\n",
    "    \n",
    "    for i in range(len(arr)):\n",
    "        \n",
    "        if(arr[i] in my_set):\n",
    "            return arr[i]\n",
    "        else:\n",
    "            my_set.add(arr[i])\n",
    "        \n",
    "    return -1\n",
    "\n",
    "# Print the sample results \n",
    "print('without duplicates:', checkDuplicates([1, 2, 3]))\n",
    "print('with duplicates:', checkDuplicates([1, 2, 3, 1]))"
   ]
  },
  {
   "cell_type": "markdown",
   "metadata": {},
   "source": [
    "(11) Write a Python program to select all the Sundays of a specified year. (4 extra points)"
   ]
  },
  {
   "cell_type": "code",
   "execution_count": 38,
   "metadata": {},
   "outputs": [
    {
     "name": "stdout",
     "output_type": "stream",
     "text": [
      "2022-01-02\n",
      "2022-01-09\n",
      "2022-01-16\n",
      "2022-01-23\n",
      "2022-01-30\n",
      "2022-02-06\n",
      "2022-02-13\n",
      "2022-02-20\n",
      "2022-02-27\n",
      "2022-03-06\n",
      "2022-03-13\n",
      "2022-03-20\n",
      "2022-03-27\n",
      "2022-04-03\n",
      "2022-04-10\n",
      "2022-04-17\n",
      "2022-04-24\n",
      "2022-05-01\n",
      "2022-05-08\n",
      "2022-05-15\n",
      "2022-05-22\n",
      "2022-05-29\n",
      "2022-06-05\n",
      "2022-06-12\n",
      "2022-06-19\n",
      "2022-06-26\n",
      "2022-07-03\n",
      "2022-07-10\n",
      "2022-07-17\n",
      "2022-07-24\n",
      "2022-07-31\n",
      "2022-08-07\n",
      "2022-08-14\n",
      "2022-08-21\n",
      "2022-08-28\n",
      "2022-09-04\n",
      "2022-09-11\n",
      "2022-09-18\n",
      "2022-09-25\n",
      "2022-10-02\n",
      "2022-10-09\n",
      "2022-10-16\n",
      "2022-10-23\n",
      "2022-10-30\n",
      "2022-11-06\n",
      "2022-11-13\n",
      "2022-11-20\n",
      "2022-11-27\n",
      "2022-12-04\n",
      "2022-12-11\n",
      "2022-12-18\n",
      "2022-12-25\n"
     ]
    }
   ],
   "source": [
    "# write your answer here\n",
    "# Import the required dependecies \n",
    "from datetime import date, timedelta\n",
    "\n",
    "# Writing a function to print the Sundays available in a given year\n",
    "def selectSundays(year):\n",
    "    dt = date(year, 1, 1)\n",
    "    dt += timedelta(days=6-dt.weekday())\n",
    "    while dt.year == year:\n",
    "        yield dt\n",
    "        dt += timedelta(days = 7)\n",
    "        \n",
    "for sunday in selectSundays(2022):\n",
    "    print(sunday)"
   ]
  },
  {
   "cell_type": "code",
   "execution_count": null,
   "metadata": {},
   "outputs": [],
   "source": []
  }
 ],
 "metadata": {
  "colab": {
   "collapsed_sections": [],
   "include_colab_link": true,
   "name": "In_class_exercise_01.ipynb",
   "provenance": []
  },
  "kernelspec": {
   "display_name": "Python 3 (ipykernel)",
   "language": "python",
   "name": "python3"
  },
  "language_info": {
   "codemirror_mode": {
    "name": "ipython",
    "version": 3
   },
   "file_extension": ".py",
   "mimetype": "text/x-python",
   "name": "python",
   "nbconvert_exporter": "python",
   "pygments_lexer": "ipython3",
   "version": "3.9.12"
  }
 },
 "nbformat": 4,
 "nbformat_minor": 1
}
